{
 "cells": [
  {
   "cell_type": "code",
   "execution_count": 2,
   "metadata": {},
   "outputs": [],
   "source": [
    "import numpy as np\n",
    "import cv2\n",
    "import matplotlib.pyplot as plt"
   ]
  },
  {
   "cell_type": "code",
   "execution_count": 3,
   "metadata": {},
   "outputs": [],
   "source": [
    "path = '../../KITTI/KITTI_gray/dataset/sequences/00/'"
   ]
  },
  {
   "cell_type": "code",
   "execution_count": 4,
   "metadata": {},
   "outputs": [],
   "source": [
    "imT1_L = cv2.imread(path + \"image_0/\" + \"000000.png\", 0)\n",
    "imT1_R = cv2.imread(path + \"image_1/\" + \"000000.png\", 0)"
   ]
  },
  {
   "cell_type": "code",
   "execution_count": 5,
   "metadata": {},
   "outputs": [],
   "source": [
    "imT2_L = cv2.imread(path + \"image_0/\" + \"000001.png\", 0)\n",
    "imT2_R = cv2.imread(path + \"image_1/\" + \"000001.png\", 0)"
   ]
  },
  {
   "cell_type": "code",
   "execution_count": 7,
   "metadata": {},
   "outputs": [],
   "source": [
    "K1 =  np.array([[718.856 ,   0.    , 607.1928],\n",
    "       [  0.    , 718.856 , 185.2157],\n",
    "       [  0.    ,   0.    ,   1.    ]])\n",
    "\n",
    "K2 =  np.array([[718.856 ,   0.    , 607.1928],\n",
    "       [  0.    , 718.856 , 185.2157],\n",
    "       [  0.    ,   0.    ,   1.    ]])"
   ]
  },
  {
   "cell_type": "code",
   "execution_count": 129,
   "metadata": {},
   "outputs": [],
   "source": [
    "class StateBolts(object):\n",
    "    \n",
    "    \"\"\"\n",
    "    Acts as a state-storehouse which stores the left and right property of each\n",
    "    \"\"\"\n",
    "\n",
    "    def __init__(self):\n",
    "        self._left = None\n",
    "        self._right = None\n",
    "        \n",
    "    @property\n",
    "    def left(self):\n",
    "        return self._left\n",
    "    \n",
    "    @left.setter\n",
    "    def left(self, attribute):\n",
    "        if attribute is None:\n",
    "            raise ValueError(\"Attribute can not be None while setting the property\")\n",
    "        self._left = attribute\n",
    "\n",
    "    @property\n",
    "    def right(self):\n",
    "        return self._right\n",
    "    \n",
    "    @right.setter\n",
    "    def right(self, attribute):\n",
    "        if attribute is None:\n",
    "            raise ValueError(\"Attribute can not be None while setting the property\")\n",
    "        self._right = attribute\n",
    "\n",
    "\n",
    "class VO_StateMachine():\n",
    "    \n",
    "    \"\"\"\n",
    "    The VO_state acts as a state-machine which stores the frames, descriptors, tracked features\n",
    "    and matched features.  \n",
    "    \"\"\"\n",
    "    \n",
    "    def __init__(self, state_num=None, params=None):\n",
    "    \n",
    "        \"\"\"\n",
    "        Args:\n",
    "            state_num : the number of the frame\n",
    "        \n",
    "        \"\"\"\n",
    "        self.state_num = state_num\n",
    "        self.params = params\n",
    "        \n",
    "        #manage information about frames \n",
    "        self.frames = StateBolts()\n",
    "        \n",
    "        #maange the results of matched descriptors\n",
    "        self.matchedPoints = StateBolts()\n",
    "        self.keypoints = StateBolts()\n",
    "        self.descriptors = StateBolts()\n",
    "        self.inliers = StateBolts()\n",
    "        \n",
    "        #manage triangulation results\n",
    "        self.pts3D = None\n",
    "        self.pts3D_Filter = None\n",
    "        self.InliersFilter = StateBolts()\n",
    "        \n",
    "        #manage tracking results\n",
    "        self.trackedPoints_further = StateBolt()\n",
    "        self.trackerPoints_P3P = StateBolts()\n",
    "        \n",
    "        #manage PnP (or P3P) filtered results\n",
    "        self.InliersP3P = StateBolts()\n",
    "        self.P3P_pts3D = None\n",
    "        \n",
    "        #manage 6DOF pose in the current state\n",
    "        Location_TransVec = None\n",
    "        Orientation_RotMat = None\n",
    "        \n",
    "    def none_checks(self):\n",
    "        \"\"\"\n",
    "        Call the function before moving on to the next state and assigning (prevState<-currState)\n",
    "        \"\"\"\n",
    "        if True:\n",
    "            raise ValueError(\" ... \")\n",
    "            \n",
    "    def update_state_components(self):\n",
    "        pass"
   ]
  },
  {
   "cell_type": "code",
   "execution_count": 130,
   "metadata": {},
   "outputs": [],
   "source": [
    "#from plot_utils import showMatchedFeatures\n",
    "#from core.feature import getMatchingKeypoints\n",
    "\n",
    "class DetectionEngine():\n",
    "    \n",
    "    def __init__(self, frames, params):\n",
    "        \n",
    "        self.frames = frames\n",
    "        self.params = params\n",
    "\n",
    "        self.matchedPoints = StateBolts()\n",
    "        self.keypoints = StateBolts()\n",
    "        self.descriptors = StateBolts()\n",
    "        self.inliers = StateBolts()\n",
    "                \n",
    "    def matching_keypoints(self):\n",
    "        if self.matchedPoints is None:\n",
    "            self.process_matching_keypoints()\n",
    "        return self.matchedPoints, self.keypoints, self.descriptors\n",
    "    \n",
    "    def process_matching_keypoints(self):\n",
    "        self.matchedPoints, self.keypoints, self.descriptors = getMatchingKeypoints(self.frames.left, self.frames.right, self.params)\n",
    "    \n",
    "    def show_matching_keypoints(self):\n",
    "        showMatchedFeatures(self.left_frame, self.right_frame)\n",
    "        \n",
    "    def filter_matching_inliers(self):\n",
    "        \n",
    "        for i in range(params.GeoComp.EM.num_trials):\n",
    "            E, mask = cv2.findEssentialMatrix(self.matchedPoints.left, self.matchedPoints.right, params)\n",
    "            mask = mask.astype(bool)\n",
    "            ratio =  sum(mask)/len(mask.flatten())\n",
    "\n",
    "            if ratio > params.EM.inilierRatio:\n",
    "                print(\"Iterations : 5 point Algorithm : {}\".format(i+1))\n",
    "                print(\"Inlier Ratio :                   {}\".format(ratio))\n",
    "                break\n",
    "            else:\n",
    "                print(\"Failed to Calculate E, Iter :    {}\".format(i))\n",
    "                if i==params.GeoComp.EM.num_trials-1:\n",
    "                    print(\"Maxinum interation in 5-point Algorithm reached\")\n",
    "                else:\n",
    "                    print(\"Running Iterations Again. Iters left : {}\".format(params.geocom.EM.num_trials-1))\n",
    "                    \n",
    "        self.inliers.left = self.matchedPoints.left(mask)\n",
    "        self.inliers.right = self.matchedPoints.right(mask)\n",
    "        \n",
    "        return self.inliers.left, self.inliers.right"
   ]
  },
  {
   "cell_type": "code",
   "execution_count": 115,
   "metadata": {},
   "outputs": [],
   "source": [
    "def get_matching_keypoint(left_frame, right_frame, params):\n",
    "    pass\n",
    "        \n",
    "    \n",
    "def showMatchedFeatures():\n",
    "    pass"
   ]
  },
  {
   "cell_type": "markdown",
   "metadata": {},
   "source": [
    "**Dataset here**"
   ]
  },
  {
   "cell_type": "code",
   "execution_count": 116,
   "metadata": {},
   "outputs": [],
   "source": [
    "#define the dataset here"
   ]
  },
  {
   "cell_type": "markdown",
   "metadata": {},
   "source": [
    "**Initialise the State**"
   ]
  },
  {
   "cell_type": "code",
   "execution_count": null,
   "metadata": {},
   "outputs": [],
   "source": [
    "state_num = 0\n",
    "\n",
    "left_frame, right_frame = dataset[state_num]\n",
    "\n",
    "#initialise the state\n",
    "prevState = VO_State(state_num)\n",
    "\n",
    "#set frame state\n",
    "prevState.frames.left, prevState.frames.right = left_frame, right_frame"
   ]
  },
  {
   "cell_type": "markdown",
   "metadata": {},
   "source": [
    "**Find Matching Keypoints**"
   ]
  },
  {
   "cell_type": "code",
   "execution_count": null,
   "metadata": {},
   "outputs": [],
   "source": [
    "detection_worker = DetectionEngine(prevState.frames, params)"
   ]
  },
  {
   "cell_type": "code",
   "execution_count": null,
   "metadata": {},
   "outputs": [],
   "source": [
    "prevState.matchedPoints, prevState.keyPoints, prevState.descriptors = detection_worker.matching_keypoints()\n",
    "\n",
    "if params.DEBUG.plotting:\n",
    "    showMatchedFeatures(prevState.frames.left, prevState.frames, prevState.matchedPoints.left, prevState.matchedPoints.right)"
   ]
  },
  {
   "cell_type": "code",
   "execution_count": null,
   "metadata": {},
   "outputs": [],
   "source": [
    "prevState.Inliers = detection_worker.filter_matching_inliers()"
   ]
  },
  {
   "cell_type": "markdown",
   "metadata": {},
   "source": [
    "**Triangulate and Reprojection Error**"
   ]
  },
  {
   "cell_type": "code",
   "execution_count": null,
   "metadata": {},
   "outputs": [],
   "source": [
    "prevState.pts3D, reproj_error = linear_triangulation(prevState.Inliers, dataset.ProjL, dataset.ProjR)\n",
    "\n",
    "triangulation_filter_mask = filter_triangulated_points(prevState.pts3D)\n",
    "\n",
    "prevState.InliersFilter.left = prevState.Inliers.left[triangulation_filter_mask]\n",
    "prevState.InliersFilter.right = prevState.Inliers.right[triangulation_filter_mask]"
   ]
  },
  {
   "cell_type": "code",
   "execution_count": null,
   "metadata": {},
   "outputs": [],
   "source": [
    "#if params.DEBUG.plotting:\n",
    "showMatchedFeatures(prevState.frames.left, prevState.frames, prevState.InliersFilter.left, prevState.InliersFilter.left)"
   ]
  },
  {
   "cell_type": "markdown",
   "metadata": {},
   "source": [
    "**Assign the orientation and location for the current state of set of cameras**"
   ]
  },
  {
   "cell_type": "code",
   "execution_count": null,
   "metadata": {},
   "outputs": [],
   "source": [
    "prevState.Location = params.Inital.Location\n",
    "prevState.Orientation = params.Initial.Orientation"
   ]
  },
  {
   "cell_type": "markdown",
   "metadata": {},
   "source": [
    "**Calculate the RMSE errors**\n"
   ]
  },
  {
   "cell_type": "code",
   "execution_count": null,
   "metadata": {},
   "outputs": [],
   "source": [
    "#a line plot chart which updates itself will come here. Actually this will come in the main code as you process the frames. "
   ]
  },
  {
   "cell_type": "markdown",
   "metadata": {},
   "source": [
    "**Process the second set of frames**"
   ]
  },
  {
   "cell_type": "code",
   "execution_count": null,
   "metadata": {},
   "outputs": [],
   "source": [
    "state_num = 0\n",
    "\n",
    "left_frame, right_frame = dataset[state_num]\n",
    "\n",
    "#initialise the state\n",
    "prevState = VO_State(state_num)\n",
    "\n",
    "#set frame state\n",
    "prevState.frames.left, prevState.frames.right = left_frame, right_frame"
   ]
  },
  {
   "cell_type": "code",
   "execution_count": 133,
   "metadata": {},
   "outputs": [],
   "source": [
    "# A lot of pipeline code comes here until the triangulation filter results.\n",
    "# I think this entire should be encapsulated in the pipeline\n",
    "\n",
    "\n",
    "#Design it in such a way that one .update_state_components() will do the entire thing for you in the currstate"
   ]
  },
  {
   "cell_type": "code",
   "execution_count": 134,
   "metadata": {},
   "outputs": [],
   "source": [
    "#Now the code for interaction between the 2 states begin"
   ]
  },
  {
   "cell_type": "markdown",
   "metadata": {},
   "source": [
    "**Pose Estimation of Second wrt First** (PnP)"
   ]
  },
  {
   "cell_type": "code",
   "execution_count": null,
   "metadata": {},
   "outputs": [],
   "source": [
    "# track from left frame (first) to  left frame (second)\n",
    "# track from right frame (first) to right frame (second)\n",
    "\n",
    "# filter matches with less error\n",
    "# join index and select only good tracked points\n",
    "\n",
    "mask_optLK = ...\n",
    "\n",
    "#write the tracking code here\n",
    "\n",
    "\n",
    "# Remove non-valid points from inliers filtered in prevState using the mask of tracking algorithm\n",
    "prevState.InliersP3P.left = prevState.InliersFilter.left[mask_optLK, :]\n",
    "prevState.InliersP3P.right = prevState.InliersFilter.right[mask_optLK, :]\n",
    "prevState.P3P_pts3D = prevState.pts3D_Filter[mask_optLK, :]\n",
    "\n",
    "#Remove outliers using Epipolar Geometry\n",
    "_, mask_Left = cv2.findEssentialMat(prevState.InliersP3P.left,\n",
    "                                     prevState.trackedPoints_further.left\n",
    "                                     'Method', params.opencv.eEm.Method,...\n",
    "                                     'Confidence', params.opencv.eEm.Confidence, ...\n",
    "                                     'Threshold', params.opencv.eEm.Threshold);\n",
    "\n",
    "_, mask_Right = cv2.findEssentialMat(prevState.InliersP3P.right,\n",
    "                                    prevState.InliersP3P.left,\n",
    "                                    ...)\n",
    "\n",
    "mask_Left = mask_Left.astype(bool)\n",
    "mask_Right = mask_Right.astype(bool)\n",
    "mask_LR = np.logical_and(mask_Left, mask_Right)\n",
    "\n",
    "ratio = sum(mask_LR)/len(mask_LR)\n",
    "\n",
    "if ratio > params.EM.inilierRatio:\n",
    "    print(\"Iterations : 5 point Algorithm : {}\".format(i+1))\n",
    "    print(\"Inlier Ratio :                   {}\".format(ratio))\n",
    "    break\n",
    "else:\n",
    "    print(\"Failed to Calculate E, Iter :    {}\".format(i))\n",
    "    if i==params.GeoComp.EM.num_trials-1:\n",
    "        print(\"Maxinum interation in 5-point Algorithm reached\")\n",
    "    else:\n",
    "        print(\"Running Iterations Again. Iters left : {}\".format(params.GeoComp.EM.num_trials-1))"
   ]
  },
  {
   "cell_type": "code",
   "execution_count": null,
   "metadata": {},
   "outputs": [],
   "source": [
    "# Hence remove the outliers\n",
    "prevState.InliersP3P.left = prevState.InliersP3P.left[mask_LR,:]\n",
    "prevState.InliersP3P.right = prevState.InliersP3P.right[mask_LR,:]\n",
    "prevState.P3P_pts3D = prevState.P3P_pts3D[mask_LR, :]\n",
    "currState.trackedP3P.left = prevState.trackedPoints_further.left[mask_LR,:]\n",
    "currState.trackedP3P.right = prevState.trackedPoints_further.right[mask_LR,:]"
   ]
  },
  {
   "cell_type": "code",
   "execution_count": null,
   "metadata": {},
   "outputs": [],
   "source": [
    "#if params.DEBUG.plotting:\n",
    "showMatchedFeatures(prevState.frames.left, currState.frames.left, prevState.InlersP3P.left, currState.trackedP3P.left, \n",
    "                    legend = ['Features @ Tk', 'Features @ Tk-1'], title='Feature Tracking over time'"
   ]
  },
  {
   "cell_type": "markdown",
   "metadata": {},
   "source": [
    "**Run Pose Estimation over time**"
   ]
  },
  {
   "cell_type": "code",
   "execution_count": null,
   "metadata": {},
   "outputs": [],
   "source": [
    "for i in range(params.opencv.PnP.numTrials):\n",
    "    \n",
    "    r_vec, t_vec, success, maskPose = cv2.solvePnPRansac(prevState.P3P_pts3D, currState_trackers_P3P_left, dataset.proj_L)\n",
    "    r, _ = cv2.Rodrigues(r_vec)\n",
    "    r_mat = r.as_matrix()\n",
    "    \n",
    "    # calculate relative_T and relative_R\n",
    "    ratio = sum(maskPose)/len(maskPose)\n",
    "    \n",
    "    if (np.linalg.norm(t_vec)):\n",
    "        do som eelimiation here"
   ]
  },
  {
   "cell_type": "code",
   "execution_count": null,
   "metadata": {},
   "outputs": [],
   "source": [
    "if Optimization:\n",
    "    Vo_state.optimization()"
   ]
  },
  {
   "cell_type": "code",
   "execution_count": null,
   "metadata": {},
   "outputs": [],
   "source": [
    "currState.Location_TransVec = ...\n",
    "currState.Orientation_RotVect = ..."
   ]
  },
  {
   "cell_type": "code",
   "execution_count": null,
   "metadata": {},
   "outputs": [],
   "source": [
    "#calculate Error Function\n",
    "\n",
    "def calculateRMSE_Error"
   ]
  },
  {
   "cell_type": "code",
   "execution_count": null,
   "metadata": {},
   "outputs": [],
   "source": []
  }
 ],
 "metadata": {
  "kernelspec": {
   "display_name": "opencv",
   "language": "python",
   "name": "opencv"
  },
  "language_info": {
   "codemirror_mode": {
    "name": "ipython",
    "version": 3
   },
   "file_extension": ".py",
   "mimetype": "text/x-python",
   "name": "python",
   "nbconvert_exporter": "python",
   "pygments_lexer": "ipython3",
   "version": "3.8.3"
  }
 },
 "nbformat": 4,
 "nbformat_minor": 2
}
