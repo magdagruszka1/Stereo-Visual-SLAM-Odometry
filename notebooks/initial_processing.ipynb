{
 "cells": [
  {
   "cell_type": "code",
   "execution_count": 2,
   "metadata": {},
   "outputs": [],
   "source": [
    "import numpy as np\n",
    "import cv2\n",
    "import matplotlib.pyplot as plt"
   ]
  },
  {
   "cell_type": "code",
   "execution_count": 3,
   "metadata": {},
   "outputs": [],
   "source": [
    "path = '../../KITTI/KITTI_gray/dataset/sequences/00/'"
   ]
  },
  {
   "cell_type": "code",
   "execution_count": 4,
   "metadata": {},
   "outputs": [],
   "source": [
    "imT1_L = cv2.imread(path + \"image_0/\" + \"000000.png\", 0)\n",
    "imT1_R = cv2.imread(path + \"image_1/\" + \"000000.png\", 0)"
   ]
  },
  {
   "cell_type": "code",
   "execution_count": 5,
   "metadata": {},
   "outputs": [],
   "source": [
    "imT2_L = cv2.imread(path + \"image_0/\" + \"000001.png\", 0)\n",
    "imT2_R = cv2.imread(path + \"image_1/\" + \"000001.png\", 0)"
   ]
  },
  {
   "cell_type": "code",
   "execution_count": 7,
   "metadata": {},
   "outputs": [],
   "source": [
    "K1 =  np.array([[718.856 ,   0.    , 607.1928],\n",
    "       [  0.    , 718.856 , 185.2157],\n",
    "       [  0.    ,   0.    ,   1.    ]])\n",
    "\n",
    "K2 =  np.array([[718.856 ,   0.    , 607.1928],\n",
    "       [  0.    , 718.856 , 185.2157],\n",
    "       [  0.    ,   0.    ,   1.    ]])"
   ]
  },
  {
   "cell_type": "code",
   "execution_count": 118,
   "metadata": {},
   "outputs": [],
   "source": [
    "class StateBolts(object):\n",
    "    \n",
    "    \"\"\"\n",
    "    Acts as a state-storehouse which stores the left and right property of each\n",
    "    \"\"\"\n",
    "\n",
    "    def __init__(self):\n",
    "        self._left = None\n",
    "        self._right = None\n",
    "        \n",
    "    @property\n",
    "    def left(self):\n",
    "        return self._left\n",
    "    \n",
    "    @left.setter\n",
    "    def left(self, attribute):\n",
    "        if attribute is None:\n",
    "            raise ValueError(\"Attribute can not be None while setting the property\")\n",
    "        self._left = attribute\n",
    "\n",
    "    @property\n",
    "    def right(self):\n",
    "        return self._right\n",
    "    \n",
    "    @right.setter\n",
    "    def right(self, attribute):\n",
    "        if attribute is None:\n",
    "            raise ValueError(\"Attribute can not be None while setting the property\")\n",
    "        self._right = attribute\n",
    "\n",
    "\n",
    "class VO_StateMachine():\n",
    "    \n",
    "    \"\"\"\n",
    "    The VO_state acts as a state-machine which stores the frames, descriptors, tracked features\n",
    "    and matched features.  \n",
    "    \"\"\"\n",
    "    \n",
    "    def __init__(self, state_num=None, params=None):\n",
    "    \n",
    "        \"\"\"\n",
    "        Args:\n",
    "            state_num : the number of the frame\n",
    "        \n",
    "        \"\"\"\n",
    "        self.state_num = state_num\n",
    "        self.params = params\n",
    "        \n",
    "        #store information about frames \n",
    "        self.frames = StateBolts()\n",
    "        \n",
    "        #store information about the results of matched descriptors\n",
    "        self.matchedPoints = StateBolts()\n",
    "        self.keypoints = StateBolts()\n",
    "        self.descriptors = StateBolts()\n",
    "        self.inliers = StateBolts()\n",
    "        \n",
    "        \n",
    "        #store triangulation results\n",
    "        self.pts3D = None\n",
    "        self.pts3D_Filter = None\n",
    "        self.InliersFilter = StateBolts()"
   ]
  },
  {
   "cell_type": "code",
   "execution_count": 114,
   "metadata": {},
   "outputs": [],
   "source": [
    "#from plot_utils import showMatchedFeatures\n",
    "#from core.feature import getMatchingKeypoints\n",
    "\n",
    "class DetectionEngine():\n",
    "    \n",
    "    def __init__(self, frames, params):\n",
    "        \n",
    "        self.frames = frames\n",
    "        self.params = params\n",
    "\n",
    "        self.matchedPoints = StateBolts()\n",
    "        self.keypoints = StateBolts()\n",
    "        self.descriptors = StateBolts()\n",
    "        self.inliers = StateBolts()\n",
    "                \n",
    "    def matching_keypoints(self):\n",
    "        if self.matchedPoints is None:\n",
    "            self.process_matching_keypoints()\n",
    "        return self.matchedPoints, self.keypoints, self.descriptors\n",
    "    \n",
    "    def process_matching_keypoints(self):\n",
    "        self.matchedPoints, self.keypoints, self.descriptors = getMatchingKeypoints(self.frames.left, self.frames.right, self.params)\n",
    "    \n",
    "    def show_matching_keypoints(self):\n",
    "        showMatchedFeatures(self.left_frame, self.right_frame)\n",
    "        \n",
    "    def filter_matching_inliers(self):\n",
    "        \n",
    "        for i in range(params.GeoComp.EM.num_trials):\n",
    "            E, mask = cv2.findEssentialMatrix(self.matchedPoints.left, self.matchedPoints.right, params)\n",
    "            mask = mask.astype(bool)\n",
    "            ratio =  sum(mask)/len(mask.flatten())\n",
    "\n",
    "            if ratio > params.EM.inilierRatio:\n",
    "                print(\"Iterations : 5 point Algorithm : {}\".format(i+1))\n",
    "                print(\"Inlier Ratio :                   {}\".format(ratio))\n",
    "                break\n",
    "            else:\n",
    "                print(\"Failed to Calculate E, Iter :    {}\".format(i))\n",
    "                if i==params.GeoComp.EM.num_trials-1:\n",
    "                    print(\"Maxinum interation in 5-point Algorithm reached\")\n",
    "                else:\n",
    "                    print(\"Running Iterations Again. Iters left : {}\".format(params.geocom.EM.num_trials-1))\n",
    "                    \n",
    "        self.inliers.left = self.matchedPoints.left(mask)\n",
    "        self.inliers.right = self.matchedPoints.right(mask)\n",
    "        \n",
    "        return self.inliers.left, self.inliers.right"
   ]
  },
  {
   "cell_type": "code",
   "execution_count": 115,
   "metadata": {},
   "outputs": [],
   "source": [
    "def get_matching_keypoint(left_frame, right_frame, params):\n",
    "    pass\n",
    "        \n",
    "    \n",
    "def showMatchedFeatures():\n",
    "    pass"
   ]
  },
  {
   "cell_type": "markdown",
   "metadata": {},
   "source": [
    "**Dataset here**"
   ]
  },
  {
   "cell_type": "code",
   "execution_count": 116,
   "metadata": {},
   "outputs": [],
   "source": [
    "#define the dataset here"
   ]
  },
  {
   "cell_type": "markdown",
   "metadata": {},
   "source": [
    "**Initialise the State**"
   ]
  },
  {
   "cell_type": "code",
   "execution_count": null,
   "metadata": {},
   "outputs": [],
   "source": [
    "state_num = 0\n",
    "\n",
    "left_frame, right_frame = dataset[state_num]\n",
    "\n",
    "#initialise the state\n",
    "prevState = VO_State(state_num)\n",
    "\n",
    "#set frame state\n",
    "prevState.frames.left, prevState.frames.right = left_frame, right_frame"
   ]
  },
  {
   "cell_type": "markdown",
   "metadata": {},
   "source": [
    "**Find Matching Keypoints**"
   ]
  },
  {
   "cell_type": "code",
   "execution_count": null,
   "metadata": {},
   "outputs": [],
   "source": [
    "detection_worker = DetectionEngine(prevState.frames, params)"
   ]
  },
  {
   "cell_type": "code",
   "execution_count": null,
   "metadata": {},
   "outputs": [],
   "source": [
    "prevState.matchedPoints, prevState.keyPoints, prevState.descriptors = detection_worker.matching_keypoints()\n",
    "\n",
    "if params.DEBUG.plotting:\n",
    "    showMatchedFeatures(prevState.frames.left, prevState.frames, prevState.matchedPoints.left, prevState.matchedPoints.right)"
   ]
  },
  {
   "cell_type": "code",
   "execution_count": null,
   "metadata": {},
   "outputs": [],
   "source": [
    "prevState.Inliers = detection_worker.filter_matching_inliers()"
   ]
  },
  {
   "cell_type": "code",
   "execution_count": null,
   "metadata": {},
   "outputs": [],
   "source": [
    "prevState.pts3D, reproj_error = linear_triangulation(prevState.Inliers, dataset.ProjL, dataset.ProjR)\n",
    "\n",
    "triangulation_filter_mask = filter_triangulated_points(prevState.pts3D)\n",
    "\n",
    "prevState.InliersFilter.left = prevState.Inliers.left[triangulation_filter_mask]\n",
    "prevState.InliersFilter.right = prevState.Inliers.right[triangulation_filter_mask]"
   ]
  },
  {
   "cell_type": "code",
   "execution_count": null,
   "metadata": {},
   "outputs": [],
   "source": [
    "#if params.DEBUG.plotting:\n",
    "showMatchedFeatures(prevState.frames.left, prevState.frames, prevState.InliersFilter.left, prevState.InliersFilter.left)"
   ]
  },
  {
   "cell_type": "code",
   "execution_count": null,
   "metadata": {},
   "outputs": [],
   "source": []
  }
 ],
 "metadata": {
  "kernelspec": {
   "display_name": "opencv",
   "language": "python",
   "name": "opencv"
  },
  "language_info": {
   "codemirror_mode": {
    "name": "ipython",
    "version": 3
   },
   "file_extension": ".py",
   "mimetype": "text/x-python",
   "name": "python",
   "nbconvert_exporter": "python",
   "pygments_lexer": "ipython3",
   "version": "3.8.3"
  }
 },
 "nbformat": 4,
 "nbformat_minor": 2
}
