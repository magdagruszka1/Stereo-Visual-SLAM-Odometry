{
 "cells": [
  {
   "cell_type": "code",
   "execution_count": 1,
   "metadata": {},
   "outputs": [],
   "source": [
    "import sys\n",
    "sys.path.append(\"../\")"
   ]
  },
  {
   "cell_type": "code",
   "execution_count": 2,
   "metadata": {},
   "outputs": [],
   "source": [
    "import os\n",
    "import glob\n",
    "import numpy as np\n",
    "\n",
    "from stereoVO.structures.components import StateBolts"
   ]
  },
  {
   "cell_type": "code",
   "execution_count": 3,
   "metadata": {},
   "outputs": [],
   "source": [
    "class CameraParameters():\n",
    "    def __init__(self, fx, fy, cx, cy):\n",
    "        self.fx = fx\n",
    "        self.fy = fy\n",
    "        self.cx = cx\n",
    "        self.cy = cy\n",
    "\n",
    "    @property\n",
    "    def camera_matrix(self):\n",
    "        matrix = np.array([[self.fx, 0.0, self.cx],\n",
    "                           [0.0, self.fx, self.cy],\n",
    "                           [0.0, 0.0, 1.0]])\n",
    "        return matrix\n",
    "\n",
    "    def __call__(self):\n",
    "        return self.camera_matrix"
   ]
  },
  {
   "cell_type": "code",
   "execution_count": 4,
   "metadata": {},
   "outputs": [],
   "source": [
    "class KittiDataset():\n",
    "    \n",
    "    def __init__(self, path):\n",
    "        \n",
    "        self.left_images_path=os.path.join(path, 'image_0')\n",
    "        self.right_images_path=os.path.join(path, 'image_1')\n",
    "        \n",
    "        self.calibfile=os.path.join(path, 'calib.txt')\n",
    "        self.sequence_count=os.path.dirname(path).split('/')[-1]\n",
    "        self.gt_path=os.path.join(path, 'data_odometry_poses', 'dataset', 'poses', self.sequence_count + '.txt')\n",
    "        self.ground_truth=self.load_ground_truth_pose(self.gt_path)\n",
    "        \n",
    "        self.left_image_paths=self.load_image_paths(self.left_images_path)\n",
    "        self.right_image_paths=self.load_image_paths(self.right_images_path)\n",
    "        \n",
    "        self.camera_intrinsic, self.PL, self.PR =self.load_camera_parameters(self.calibfile)\n",
    "        \n",
    "        assert len(self.ground_truth)==len(self.left_image_paths)\n",
    "        \n",
    "    def convert_text_to_ground_truth(self, gt_line):\n",
    "        \n",
    "        matrix = np.array(gt_line.split()).reshape((3, 4)).astype(np.float32)\n",
    "        return matrix\n",
    "    \n",
    "    def load_ground_truth_pose(self, gt_path):\n",
    "        \n",
    "        ground_truth = None\n",
    "        if not os.path.exists(gt_path):\n",
    "            print(\"ground truth path is not found.\")\n",
    "            return None\n",
    "\n",
    "        ground_truth = []\n",
    "\n",
    "        with open(gt_path) as gt_file:\n",
    "            gt_lines = gt_file.readlines()\n",
    "\n",
    "            for gt_line in gt_lines:\n",
    "                pose = self.convert_text_to_ground_truth(gt_line)\n",
    "                ground_truth.append(pose)\n",
    "                \n",
    "        return ground_truth\n",
    "    \n",
    "    def load_image_paths(self, image_dir):\n",
    "        \n",
    "        img_paths = [os.path.join(image_dir,img_id) for img_id in os.listdir(image_dir) if os.path.isfile(os.path.join(image_dir, img_id))]\n",
    "        img_paths.sort()\n",
    "        return img_paths\n",
    "        \n",
    "    def load_camera_parameters(self, calibfile):\n",
    "        \n",
    "        if not os.path.exists(calibfile):\n",
    "            print(\"camera parameter file path is not found.\")\n",
    "            return None\n",
    "\n",
    "        calibParams = open(calibfile, 'r').readlines()\n",
    "        P1Vals = calibParams[0].split()\n",
    "        P2Vals = calibParams[1].split()\n",
    "        projL = np.array([[float(P1Vals[row*4 + column + 1]) for column in range(4)] for row in range(3)])\n",
    "        projR = np.array([[float(P2Vals[row*4 + column + 1]) for column in range(4)] for row in range(3)])\n",
    "        param = CameraParameters(float(P1Vals[1]), float(P1Vals[6]),\n",
    "                                float(P1Vals[3]), float(P1Vals[7]))\n",
    "\n",
    "        return param, projL, projR\n",
    "        \n",
    "    def __len__(self):\n",
    "        assert len(self.left_image_paths)==len(self.right_image_paths)\n",
    "        \n",
    "        return len(self.left_image_paths)\n",
    "        \n",
    "    def __getitem__(self, index):\n",
    "        \n",
    "        img_left = cv2.imread(self.left_image_paths[index])\n",
    "        img_right = cv2.imread(self.right_image_paths[index])\n",
    "        \n",
    "        img_left = cv2.cvtColor(img_left, cv2.COLOR_BGR2GRAY)\n",
    "        img_right  =  cv2.cvtColor(img_right, cv2.COLOR_BGR2GRAY)\n",
    "        \n",
    "        gr_truth = self.ground_truth[index]\n",
    "        \n",
    "        return img_left, img_right, gr_truth\n",
    " "
   ]
  },
  {
   "cell_type": "code",
   "execution_count": 5,
   "metadata": {},
   "outputs": [],
   "source": [
    "path = '../../KITTI/KITTI_gray/dataset/sequences/00/'"
   ]
  },
  {
   "cell_type": "code",
   "execution_count": 6,
   "metadata": {},
   "outputs": [],
   "source": [
    "dataset = KittiDataset(path)"
   ]
  },
  {
   "cell_type": "code",
   "execution_count": 7,
   "metadata": {},
   "outputs": [
    {
     "data": {
      "text/plain": [
       "array([[718.856 ,   0.    , 607.1928],\n",
       "       [  0.    , 718.856 , 185.2157],\n",
       "       [  0.    ,   0.    ,   1.    ]])"
      ]
     },
     "execution_count": 7,
     "metadata": {},
     "output_type": "execute_result"
    }
   ],
   "source": [
    "dataset.camera_intrinsic()"
   ]
  },
  {
   "cell_type": "code",
   "execution_count": 8,
   "metadata": {},
   "outputs": [
    {
     "data": {
      "text/plain": [
       "array([[718.856 ,   0.    , 607.1928,   0.    ],\n",
       "       [  0.    , 718.856 , 185.2157,   0.    ],\n",
       "       [  0.    ,   0.    ,   1.    ,   0.    ]])"
      ]
     },
     "execution_count": 8,
     "metadata": {},
     "output_type": "execute_result"
    }
   ],
   "source": [
    "dataset.PL"
   ]
  },
  {
   "cell_type": "code",
   "execution_count": 9,
   "metadata": {},
   "outputs": [
    {
     "data": {
      "text/plain": [
       "array([[ 718.856 ,    0.    ,  607.1928, -386.1448],\n",
       "       [   0.    ,  718.856 ,  185.2157,    0.    ],\n",
       "       [   0.    ,    0.    ,    1.    ,    0.    ]])"
      ]
     },
     "execution_count": 9,
     "metadata": {},
     "output_type": "execute_result"
    }
   ],
   "source": [
    "dataset.PR"
   ]
  },
  {
   "cell_type": "code",
   "execution_count": null,
   "metadata": {},
   "outputs": [],
   "source": []
  }
 ],
 "metadata": {
  "kernelspec": {
   "display_name": "opencv",
   "language": "python",
   "name": "opencv"
  },
  "language_info": {
   "codemirror_mode": {
    "name": "ipython",
    "version": 3
   },
   "file_extension": ".py",
   "mimetype": "text/x-python",
   "name": "python",
   "nbconvert_exporter": "python",
   "pygments_lexer": "ipython3",
   "version": "3.8.3"
  }
 },
 "nbformat": 4,
 "nbformat_minor": 2
}
